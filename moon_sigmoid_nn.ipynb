{
 "cells": [
  {
   "metadata": {
    "ExecuteTime": {
     "end_time": "2025-04-19T15:18:27.957636Z",
     "start_time": "2025-04-19T15:18:27.938019Z"
    }
   },
   "cell_type": "code",
   "source": [
    "\n",
    "import numpy as np\n",
    "import matplotlib.pyplot as plt\n",
    "from sklearn.datasets import load_iris\n",
    "from sklearn.model_selection import train_test_split\n",
    "from sklearn.preprocessing import StandardScaler\n",
    "import tensorflow as tf\n",
    "import os\n",
    "\n",
    "# 创建保存图像的目录\n",
    "output_dir = \"iris_nn_plots\"\n",
    "os.makedirs(output_dir, exist_ok=True)\n",
    "\n",
    "# 1. 加载和预处理数据\n",
    "iris = load_iris()\n",
    "X = iris.data\n",
    "y = iris.target\n",
    "\n",
    "# 标准化特征\n",
    "scaler = StandardScaler()\n",
    "X_scaled = scaler.fit_transform(X)\n",
    "y_cat = tf.keras.utils.to_categorical(y, num_classes=3)\n",
    "\n",
    "# 使用完整4维数据训练，但只用前2个特征可视化\n",
    "X_2d = X_scaled[:, :2]\n",
    "\n",
    "X_train, X_test, y_train, y_test = train_test_split(X_scaled, y_cat, test_size=0.2, random_state=42)\n"
   ],
   "id": "52d4519537c8e154",
   "outputs": [],
   "execution_count": 16
  },
  {
   "metadata": {
    "ExecuteTime": {
     "end_time": "2025-04-19T15:18:27.973170Z",
     "start_time": "2025-04-19T15:18:27.958638Z"
    }
   },
   "cell_type": "code",
   "source": [
    "# 2. 决策边界绘图函数\n",
    "def plot_decision_boundary_2d(model, X_vis, y_true, neurons):\n",
    "    x_min, x_max = X_vis[:, 0].min() - 1, X_vis[:, 0].max() + 1\n",
    "    y_min, y_max = X_vis[:, 1].min() - 1, X_vis[:, 1].max() + 1\n",
    "    xx, yy = np.meshgrid(np.linspace(x_min, x_max, 300),\n",
    "                         np.linspace(y_min, y_max, 300))\n",
    "    grid = np.c_[xx.ravel(), yy.ravel()]\n",
    "    X_input = np.zeros((grid.shape[0], 4))\n",
    "    X_input[:, :2] = grid\n",
    "\n",
    "    preds = model.predict(X_input, verbose=0)\n",
    "    Z = np.argmax(preds, axis=1).reshape(xx.shape)\n",
    "\n",
    "    plt.figure(figsize=(8, 6))\n",
    "    plt.contourf(xx, yy, Z, cmap=plt.cm.coolwarm, alpha=0.6)\n",
    "    plt.scatter(X_vis[:, 0], X_vis[:, 1], c=np.argmax(y_true, axis=1), cmap=plt.cm.coolwarm, edgecolors='k')\n",
    "    plt.title(f\"Decision Boundary (Hidden Neurons: {neurons})\")\n",
    "    plt.xlabel(\"Feature 1\")\n",
    "    plt.ylabel(\"Feature 2\")\n",
    "    plt.tight_layout()\n",
    "    plt.savefig(f\"{output_dir}/nn_hidden_{neurons}.png\")\n",
    "    plt.close()"
   ],
   "id": "35c4df2793950dff",
   "outputs": [],
   "execution_count": 17
  },
  {
   "metadata": {
    "ExecuteTime": {
     "end_time": "2025-04-19T15:19:11.442421Z",
     "start_time": "2025-04-19T15:18:27.974171Z"
    }
   },
   "cell_type": "code",
   "source": [
    "# 3. 训练和绘图循环（1~7个神经元）\n",
    "for neurons in range(1, 8):\n",
    "    print(f\"Training model with {neurons} hidden neurons...\")\n",
    "    model = tf.keras.models.Sequential([\n",
    "        tf.keras.layers.Dense(neurons, activation='sigmoid', input_shape=(4,)),\n",
    "        tf.keras.layers.Dense(3, activation='softmax')\n",
    "    ])\n",
    "    model.compile(optimizer='adam',\n",
    "                  loss='categorical_crossentropy',\n",
    "                  metrics=['accuracy'])\n",
    "    model.fit(X_train, y_train, epochs=100, batch_size=16, verbose=0)\n",
    "    plot_decision_boundary_2d(model, X_2d, y_cat, neurons)\n",
    "\n",
    "print(\"✅ 所有图像已生成并保存在 iris_nn_plots 文件夹中。\")\n"
   ],
   "id": "d09e700d0cb03311",
   "outputs": [
    {
     "name": "stdout",
     "output_type": "stream",
     "text": [
      "Training model with 1 hidden neurons...\n"
     ]
    },
    {
     "name": "stderr",
     "output_type": "stream",
     "text": [
      "D:\\sofeware\\AnaConda\\envs\\env01\\lib\\site-packages\\keras\\src\\layers\\core\\dense.py:87: UserWarning: Do not pass an `input_shape`/`input_dim` argument to a layer. When using Sequential models, prefer using an `Input(shape)` object as the first layer in the model instead.\n",
      "  super().__init__(activity_regularizer=activity_regularizer, **kwargs)\n"
     ]
    },
    {
     "name": "stdout",
     "output_type": "stream",
     "text": [
      "Training model with 2 hidden neurons...\n",
      "Training model with 3 hidden neurons...\n",
      "Training model with 4 hidden neurons...\n",
      "Training model with 5 hidden neurons...\n",
      "Training model with 6 hidden neurons...\n",
      "Training model with 7 hidden neurons...\n",
      "✅ 所有图像已生成并保存在 iris_nn_plots 文件夹中。\n"
     ]
    }
   ],
   "execution_count": 18
  },
  {
   "metadata": {
    "ExecuteTime": {
     "end_time": "2025-04-19T15:19:11.457477Z",
     "start_time": "2025-04-19T15:19:11.443419Z"
    }
   },
   "cell_type": "code",
   "source": "",
   "id": "823282264e63a26e",
   "outputs": [],
   "execution_count": 18
  }
 ],
 "metadata": {
  "kernelspec": {
   "name": "python3",
   "language": "python",
   "display_name": "Python 3 (ipykernel)"
  }
 },
 "nbformat": 4,
 "nbformat_minor": 5
}
